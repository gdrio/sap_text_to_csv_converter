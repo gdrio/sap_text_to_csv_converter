{
 "cells": [
  {
   "cell_type": "code",
   "execution_count": 12,
   "metadata": {},
   "outputs": [],
   "source": [
    "import pandas as pd\n",
    "import os\n",
    "import datetime\n",
    "\n",
    "#Required columns MANDANT,OBJECTCLAS,OBJECTID,CHANGENR,TABNAME,TABKEY,FNAME,CHNGIND,VALUE_NEW,VALUE_OLD\n",
    "\n",
    "#read the text file CDHDR\n",
    "df = pd.read_csv(os.getcwd()+\"/\"+\"CDPOS.txt\",skiprows=5, delimiter='|',\n",
    "                   encoding = \"ISO-8859-1\",\n",
    "                   dtype=str)\n",
    "\n",
    "#remove whitespace from everywhere\n",
    "df = df.apply(lambda x: x.str.strip() if x.dtype == \"object\" else x)\n",
    "\n",
    "# delete empty columns if any\n",
    "del df['Unnamed: 0']\n",
    "del df['Unnamed: 10']\n",
    "\n",
    "# insert a column if missing\n",
    "df.insert(0, 'MANDANT', '800')\n",
    "\n",
    "#add column names\n",
    "df.columns = ['MANDANT','OBJECTCLAS', 'OBJECTID','CHANGENR','TABNAME','TABKEY','FNAME','CHNGIND','VALUE_NEW','VALUE_OLD']\n",
    "\n",
    "df.to_csv('CDPOS_0.csv', sep=';', index= None, header = None)"
   ]
  },
  {
   "cell_type": "code",
   "execution_count": null,
   "metadata": {},
   "outputs": [],
   "source": []
  }
 ],
 "metadata": {
  "kernelspec": {
   "display_name": "Python 3",
   "language": "python",
   "name": "python3"
  },
  "language_info": {
   "codemirror_mode": {
    "name": "ipython",
    "version": 3
   },
   "file_extension": ".py",
   "mimetype": "text/x-python",
   "name": "python",
   "nbconvert_exporter": "python",
   "pygments_lexer": "ipython3",
   "version": "3.8.3"
  }
 },
 "nbformat": 4,
 "nbformat_minor": 4
}
