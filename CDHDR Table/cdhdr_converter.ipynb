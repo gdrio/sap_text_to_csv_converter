{
 "cells": [
  {
   "cell_type": "code",
   "execution_count": 4,
   "metadata": {},
   "outputs": [],
   "source": [
    "import pandas as pd\n",
    "import os\n",
    "import datetime\n",
    "\n",
    "#Required columns MANDANT, OBJECTCLAS,BJECTID,CHANGENR,USERNAME,UDATE,UTIME,TCODE\n",
    "\n",
    "#read the text file CDHDR\n",
    "cdhdr = pd.read_csv(os.getcwd()+\"/\"+\"CDHDR.txt\",skiprows=5, delimiter='|',\n",
    "                   encoding = \"ISO-8859-1\",\n",
    "                   dtype=str)\n",
    "\n",
    "#remove whitespace from everywhere\n",
    "cdhdr = cdhdr.apply(lambda x: x.str.strip() if x.dtype == \"object\" else x)\n",
    "\n",
    "# delete empty columns if any\n",
    "del cdhdr['Unnamed: 0']\n",
    "del cdhdr['Unnamed: 8']\n",
    "\n",
    "# insert a column if missing\n",
    "cdhdr.insert(0, 'MANDANT', '800')\n",
    "\n",
    "#add column names\n",
    "cdhdr.columns = ['MANDANT','OBJECTCLAS', 'OBJECTID','CHANGENR','USERNAME','UDATE','UTIME','TCODE']\n",
    "\n",
    "#convert dates 02.10.2019 to 20191002\n",
    "cdhdr['UDATE'] = pd.to_datetime(cdhdr['UDATE'], format='%d.%m.%Y', errors='coerce')\n",
    "cdhdr['UDATE'] = cdhdr['UDATE'].dt.strftime('%Y%m%d')\n",
    "\n",
    "#convert time from 02:58:10 to 025810\n",
    "cdhdr[\"UTIME\"] = cdhdr[\"UTIME\"].str.replace(\":\",\"\")\n",
    "\n",
    "cdhdr.to_csv('CDHDR_0.csv', sep=';', index= None, header = None)"
   ]
  }
 ],
 "metadata": {
  "kernelspec": {
   "display_name": "Python 3",
   "language": "python",
   "name": "python3"
  },
  "language_info": {
   "codemirror_mode": {
    "name": "ipython",
    "version": 3
   },
   "file_extension": ".py",
   "mimetype": "text/x-python",
   "name": "python",
   "nbconvert_exporter": "python",
   "pygments_lexer": "ipython3",
   "version": "3.8.3"
  }
 },
 "nbformat": 4,
 "nbformat_minor": 4
}
