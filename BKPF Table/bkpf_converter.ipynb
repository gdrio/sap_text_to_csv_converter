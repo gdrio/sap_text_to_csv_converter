{
 "cells": [
  {
   "cell_type": "code",
   "execution_count": 15,
   "metadata": {},
   "outputs": [],
   "source": [
    "import pandas as pd\n",
    "import os\n",
    "import datetime\n",
    "\n",
    "# Required columns MANDT, BUKRS, BELNR, GJAHR, BLART, BLDAT, BUDAT, CPUDT, CPUTM, USNAM, TCODE, WAERS, KURSF, AWTYP, AWKEY\n",
    "\n",
    "#read the text file BKPF\n",
    "bkpf = pd.read_csv(os.getcwd()+\"/\"+\"BKPF.txt\",skiprows=5, delimiter='|',\n",
    "                   dtype=str,\n",
    "                   encoding = \"ISO-8859-1\")\n",
    "\n",
    "#remove whitespace from everywhere\n",
    "bkpf = bkpf.apply(lambda x: x.str.strip() if x.dtype == \"object\" else x)\n",
    "\n",
    "# delete empty columns if any\n",
    "del bkpf['Unnamed: 0']\n",
    "del bkpf['Unnamed: 15']\n",
    "\n",
    "#in case a column is missing\n",
    "bkpf.insert(0, 'MANDT', '800')\n",
    "\n",
    "#add column names\n",
    "bkpf.columns = ['MANDT','BUKRS','BELNR', 'GJAHR', 'BLART', 'BLDAT', 'BUDAT', 'CPUDT', 'CPUTM', 'USNAM', 'TCODE', 'WAERS', 'KURSF', 'AWTYP', 'AWKEY']\n",
    "\n",
    "#convert dates 02.10.2019 to 20191002\n",
    "bkpf['BLDAT'] = pd.to_datetime(bkpf['BLDAT'], format='%d.%m.%Y', errors='coerce')\n",
    "bkpf['BLDAT'] = bkpf['BLDAT'].dt.strftime('%Y%m%d')\n",
    "bkpf['BUDAT'] = pd.to_datetime(bkpf['BUDAT'], format='%d.%m.%Y', errors='coerce')\n",
    "bkpf['BUDAT'] = bkpf['BUDAT'].dt.strftime('%Y%m%d')\n",
    "bkpf['CPUDT'] = pd.to_datetime(bkpf['CPUDT'], format='%d.%m.%Y', errors='coerce')\n",
    "bkpf['CPUDT'] = bkpf['CPUDT'].dt.strftime('%Y%m%d')\n",
    "\n",
    "#convert time from 02:58:10 to 025810\n",
    "bkpf[\"CPUTM\"] = bkpf[\"CPUTM\"].str.replace(\":\",\"\")\n",
    "\n",
    "#convert \n",
    "bkpf.to_csv('BKPF_0.csv', sep=';', index= None, header = None)"
   ]
  },
  {
   "cell_type": "code",
   "execution_count": null,
   "metadata": {},
   "outputs": [],
   "source": []
  }
 ],
 "metadata": {
  "kernelspec": {
   "display_name": "Python 3",
   "language": "python",
   "name": "python3"
  },
  "language_info": {
   "codemirror_mode": {
    "name": "ipython",
    "version": 3
   },
   "file_extension": ".py",
   "mimetype": "text/x-python",
   "name": "python",
   "nbconvert_exporter": "python",
   "pygments_lexer": "ipython3",
   "version": "3.8.3"
  }
 },
 "nbformat": 4,
 "nbformat_minor": 4
}
