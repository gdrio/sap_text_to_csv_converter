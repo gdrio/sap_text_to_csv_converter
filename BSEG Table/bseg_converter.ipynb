{
 "cells": [
  {
   "cell_type": "code",
   "execution_count": 11,
   "metadata": {},
   "outputs": [],
   "source": [
    "import pandas as pd\n",
    "import os\n",
    "import datetime\n",
    "\n",
    "#Required columns MANDT,BUKRS,BELNR,GJAHR,BUZEI,AUGDT,AUGBL,BSCHL,KOART,UMSKZ,\n",
    "#                 DMBTR,WRBTR,SAKNR,HKONT,KUNNR,LIFNR,ZFBDT,ZTERM,ZBD1T,\n",
    "#                 ZBD2T,ZBD3T,ZBD1P,ZBD2P,SKFBT,SKNTO,WSKTO,MADAT,MANST,WERKS\n",
    "\n",
    "#read the text file BSEG\n",
    "bseg = pd.read_csv(os.getcwd()+\"/\"+\"BSEG.txt\",skiprows=5, delimiter='|',\n",
    "                   encoding = \"ISO-8859-1\",\n",
    "                   dtype=str)\n",
    "\n",
    "#remove whitespace from everywhere\n",
    "bseg = bseg.apply(lambda x: x.str.strip() if x.dtype == \"object\" else x)\n",
    "\n",
    "# delete empty columns if any\n",
    "del bseg['Unnamed: 0']\n",
    "del bseg['Unnamed: 29']\n",
    "\n",
    "#in case a column is missing\n",
    "bseg.insert(0, 'MANDT', '800')\n",
    "\n",
    "#add column names\n",
    "bseg.columns = [\"MANDT\",\"BUKRS\",\"BELNR\",\"GJAHR\",\"BUZEI\",\"AUGDT\",\"AUGBL\",\"BSCHL\",\"KOART\",\"UMSKZ\",\n",
    "                \"DMBTR\",\"WRBTR\",\"SAKNR\",\"HKONT\",\"KUNNR\",\"LIFNR\",\"ZFBDT\",\"ZTERM\",\"ZBD1T\",\n",
    "                \"ZBD2T\",\"ZBD3T\",\"ZBD1P\",\"ZBD2P\",\"SKFBT\",\"SKNTO\",\"WSKTO\",\"MADAT\",\"MANST\",\"WERKS\"]\n",
    "\n",
    "#convert dates 02.10.2019 to 20191002\n",
    "bseg['AUGDT'] = pd.to_datetime(bseg['AUGDT'], format='%d.%m.%Y', errors='coerce')\n",
    "bseg['AUGDT'] = bseg['AUGDT'].dt.strftime('%Y%m%d')\n",
    "bseg['ZFBDT'] = pd.to_datetime(bseg['ZFBDT'], format='%d.%m.%Y', errors='coerce')\n",
    "bseg['ZFBDT'] = bseg['ZFBDT'].dt.strftime('%Y%m%d')\n",
    "\n",
    "#convert value from 1,495.50 to 1495.50\n",
    "bseg[\"DMBTR\"] = bseg[\"DMBTR\"].str.replace(\",\",\"\")\n",
    "bseg[\"WRBTR\"] = bseg[\"WRBTR\"].str.replace(\",\",\"\")\n",
    "bseg[\"ZBD1P\"] = bseg[\"ZBD1P\"].str.replace(\",\",\"\")\n",
    "bseg[\"ZBD2P\"] = bseg[\"ZBD2P\"].str.replace(\",\",\"\")\n",
    "bseg[\"SKFBT\"] = bseg[\"SKFBT\"].str.replace(\",\",\"\")\n",
    "bseg[\"SKFBT\"] = bseg[\"SKFBT\"].str.replace(\",\",\"\")\n",
    "\n",
    "#extract the csv file\n",
    "bseg.to_csv('BSEG_0.csv', sep=';', index= None, header = None)"
   ]
  },
  {
   "cell_type": "code",
   "execution_count": null,
   "metadata": {},
   "outputs": [],
   "source": []
  }
 ],
 "metadata": {
  "kernelspec": {
   "display_name": "Python 3",
   "language": "python",
   "name": "python3"
  },
  "language_info": {
   "codemirror_mode": {
    "name": "ipython",
    "version": 3
   },
   "file_extension": ".py",
   "mimetype": "text/x-python",
   "name": "python",
   "nbconvert_exporter": "python",
   "pygments_lexer": "ipython3",
   "version": "3.8.3"
  }
 },
 "nbformat": 4,
 "nbformat_minor": 4
}
